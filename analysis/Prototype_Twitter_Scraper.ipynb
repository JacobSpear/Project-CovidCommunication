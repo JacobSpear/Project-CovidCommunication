{
 "cells": [
  {
   "cell_type": "code",
   "execution_count": 82,
   "metadata": {},
   "outputs": [],
   "source": [
    "from bs4 import BeautifulSoup as bs\n",
    "import pandas as pd\n",
    "import requests\n",
    "from splinter import Browser\n",
    "from selenium import webdriver\n",
    "from selenium.webdriver.common.keys import Keys\n",
    "from selenium.webdriver.chrome.options import Options  \n",
    "from time import sleep\n",
    "import pymongo\n",
    "import csv\n",
    "import os   \n",
    "import datetime\n",
    "\n",
    "\n",
    "def init_browser():\n",
    "    # @NOTE: Replace the path with your actual path to the chromedriver\n",
    "    executable_path = {\"executable_path\": \"chromedriver.exe\"}\n",
    "    return Browser(\"chrome\", **executable_path, headless=False)\n",
    "\n",
    "\n",
    "def parse_tweet(tweet):\n",
    "    entry = {}\n",
    "            \n",
    "    #Get Time of Tweet\n",
    "    entry['time'] = tweet.find(\"time\")['datetime']\n",
    "\n",
    "\n",
    "    # Gets Text of Tweet\n",
    "    # L is the \"layers\" of the tweet.  L[2] is the text itself.\n",
    "    Layers = []\n",
    "    Layers.append(tweet.findAll(\"div\",recursive=False)[1])\n",
    "    Layers.append(Layers[0].findAll(\"div\",recursive=False)[1])\n",
    "    Layers.append(Layers[1].findAll(\"div\",recursive=False)[len(Layers[1])-3].text)\n",
    "    entry['text'] = Layers[2]\n",
    "\n",
    "\n",
    "    #Get Handle\n",
    "    entry['handle'] = Layers[0].findAll('a')[0]['href']\n",
    "\n",
    "\n",
    "    #Get Is_Retweet\n",
    "    info = tweet.find_parent('div').find('div').text\n",
    "    entry['is_retweet'] = ('retweet' in info.lower())\n",
    "    \n",
    "    return entry"
   ]
  },
  {
   "cell_type": "code",
   "execution_count": null,
   "metadata": {},
   "outputs": [],
   "source": []
  },
  {
   "cell_type": "code",
   "execution_count": 85,
   "metadata": {},
   "outputs": [],
   "source": [
    "    \n",
    "\n",
    "#Scrapes many tweets\n",
    "def twitter(url,num_tweets):\n",
    "    #SOURCE: https://medium.com/@dawranliou/twitter-scraper-tutorial-with-python-requests-beautifulsoup-and-selenium-part-2-b38d849b07fe\n",
    "    chrome_options = Options()  \n",
    "    chrome_options.add_argument(\"--headless\") \n",
    "    driver = webdriver.Chrome(executable_path=os.path.abspath(\"chromedriver\"),   options=chrome_options)  \n",
    "    driver.get(url)\n",
    "    print('here')\n",
    "    body = driver.find_element_by_tag_name('body')\n",
    "    sleep(4)\n",
    "    tweets = []\n",
    "    for i in range(num_tweets):\n",
    "        body.send_keys(Keys.PAGE_DOWN)\n",
    "        html = driver.page_source\n",
    "        soup = bs(html,'lxml')\n",
    "        timeline = soup.findAll(\"div\", {\"data-testid\" : \"tweet\"})\n",
    "        \n",
    "        for tweet in timeline:\n",
    "            response = parse_tweet(tweet)\n",
    "            if not (response in tweets):\n",
    "                tweets.append(response)\n",
    "\n",
    "    driver.close()\n",
    "    return tweets\n",
    "\n",
    "    \n",
    "\n",
    "    \n",
    "    \n",
    " \n",
    "\n",
    "#     links = set()\n",
    "\n",
    "#     for i in range(num_tweets):\n",
    "#         body.send_keys(Keys.PAGE_DOWN)\n",
    "#         mars_twitter_html = driver.page_source\n",
    "#         soup = bs(mars_twitter_html,'lxml')\n",
    "#         current_lines = pd.Series([x['href'] for x in soup.find_all(class_='css-4rbku5 css-18t94o4 css-901oao r-1re7ezh r-1loqt21 r-1q142lx r-1qd0xha r-a023e6 r-16dba41 r-ad9z0x r-bcqeeo r-3s2u2q r-qvutc0')])\n",
    "#         links.update(current_lines)\n",
    "\n",
    "#     filepath = 'links_scraped.html'\n",
    "#     with open(filepath,'w') as text:\n",
    "#         for line in links:\n",
    "#             try:\n",
    "#                 text.write(str(line))\n",
    "#                 text.write('\\n')\n",
    "#             except UnicodeEncodeError:\n",
    "#                 text.write('line skipped')\n",
    "#                 text.write('\\n')\n",
    "    \n",
    "    \n",
    "    \n",
    "#     filepath2= 'all_tweets.html'\n",
    "#     with open(filepath2,'w') as text:\n",
    "#         for line in links:\n",
    "#             response = tweet(f'https://twitter.com{line}')\n",
    "#             for char in response:\n",
    "#                 try:\n",
    "#                     text.write(char)\n",
    "#                 except UnicodeEncodeError:\n",
    "#                     pass\n",
    "#             text.write('\\n')\n",
    "    \n",
    "   "
   ]
  },
  {
   "cell_type": "code",
   "execution_count": 86,
   "metadata": {
    "scrolled": true
   },
   "outputs": [
    {
     "name": "stdout",
     "output_type": "stream",
     "text": [
      "here\n",
      "{'time': '2020-03-31T16:59:20.000Z', 'text': 'Um, so this isn’t my usual content but Kipo and the Age of Wonderbeasts on Netflix is one of the best shows I’ve ever watched.  I can’t recommend it highly enough!', 'handle': '/spear_jacob', 'is_retweet': False}\n",
      "{'time': '2020-03-31T13:33:06.000Z', 'text': \"You know what's not gonna reboot the economy? Austerity.\\n\\nYou know what they're gonna tell us our public services, including public universities, scientific grants, arts programs, &etc have to accept? Austerity.\\n\\nThe fight starts here, now.\", 'handle': '/IBJIYONGI', 'is_retweet': True}\n",
      "{'time': '2020-03-30T23:35:49.000Z', 'text': 'Undocumented labor sustains essential industries across the country. We are on the frontlines of feeding & protecting millions of Americans, yet we are excluded from the most basic protections & government support.\\n\\nIn the face of this pandemic, we must demand dignity & respect.', 'handle': '/CosechaMovement', 'is_retweet': True}\n",
      "{'time': '2020-03-28T19:43:05.000Z', 'text': '\"why don\\'t they just get over it\"\\n\\nthe United States is still stealing tribes\\' land in 2020', 'handle': '/SarahTaber_bww', 'is_retweet': True}\n",
      "{'time': '2020-03-28T15:35:36.000Z', 'text': ' Suspend all rent and mortgages before April 1st', 'handle': '/IlhanMN', 'is_retweet': True}\n",
      "{'time': '2018-10-31T02:17:52.000Z', 'text': \"In any event, this call to decolonize Maunakea and the Decolonising Science Reading List, which is stuff I was prompted to read and felt I could recommend in the wake of the protectors' efforts, will always be tied to each other.\", 'handle': '/IBJIYONGI', 'is_retweet': True}\n",
      "{'time': '2020-03-26T07:45:19.000Z', 'text': \"I literally had a kid eating Oreos on our call this morning. Who cares as long as they're learning? It's the apocalypse, why are teachers steady acting like cops.\", 'handle': '/nate_bowling', 'is_retweet': True}\n",
      "{'time': '2020-03-25T15:40:28.000Z', 'text': \"If this mask shortage situation is how capitalism works, then capitalism doesn't work.\", 'handle': '/kareem_carr', 'is_retweet': True}\n",
      "{'time': '2020-03-27T00:16:36.000Z', 'text': \"Children shouldn't be in jail, ever. \\n\\nAlso, howTF is anyone justifying that kids are still in jail during this global pandemic of #COVID19?\\n\\n#FreeThemAll\\n#Abolish\", 'handle': '/xianb8', 'is_retweet': True}\n",
      "{'time': '2020-03-26T16:58:37.000Z', 'text': 'What Trump + Senate GOP have done is hold hospitals, working people, and the vulnerable hostage so they could get in $500 billion (that will be leveraged into $4T) in corporate welfare.\\n\\nWithout the Wall St giveaway, GOP refuses to fund hospitals & unemployment. It’s inhumane.', 'handle': '/AOC', 'is_retweet': True}\n",
      "{'time': '2020-03-25T13:44:55.000Z', 'text': 'Yes, but almost half of families own no stock at all.  So the actual median is approximately zero.', 'handle': '/JSEllenberg', 'is_retweet': True}\n",
      "{'time': '2020-03-25T13:02:00.000Z', 'text': 'At each vertex of a polyhedron, sum the angles around it and set its \"pointiness\" to be (360 - sum)/360 (the fraction of a full turn that is missing). Prove that the total pointiness is sure to be V-E+F (with V=count of vertices, E=count of edges, F=count of faces).', 'handle': '/jamestanton', 'is_retweet': True}\n",
      "{'time': '2020-03-25T03:29:19.000Z', 'text': \"realizing that it's not that i don't like reading it's that i don't like reading long-ass novels was a game changer--i wish English Ts would stop fetishizing the novel and take seriously kids' love of all texts--whether poetry, plays, short fiction, graphic novels, or nonfiction.\", 'handle': '/poetpedagogue', 'is_retweet': True}\n",
      "{'time': '2020-03-24T21:40:56.000Z', 'text': 'We need to release ICE detainees, people held on bail, and anyone qualifies for work release.\\n\\nWe need a moratorium on incarcerating people who are low risk to others.\\n\\nWe need an increase in medical staff in prison and jails. \\n\\nIncarcerated individuals deserve our humanity too.', 'handle': '/IlhanMN', 'is_retweet': True}\n",
      "{'time': '2020-03-24T14:28:29.000Z', 'text': \"We don't *have* to have a depression. We know the kinds of stimulus that work. We haven't lost the capacity to produce anything. There is no shortage of food. The only thing that would cause people to die from a slowed economy is greed.\", 'handle': '/JustSayXtian', 'is_retweet': True}\n",
      "{'time': '2020-03-24T13:25:48.000Z', 'text': 'The lives of immigrants in detention are important. \\n\\nThe lives of incarcerated people are important. \\n\\nThe lives of disabled people are important. \\n\\nThe lives of chronically ill people are important. \\n\\nThe lives of elders are important.', 'handle': '/TheRaDR', 'is_retweet': True}\n",
      "{'time': '2020-03-24T01:15:38.000Z', 'text': 'Our elders are precious.  Fuck this death cult that says its okay to sacrifice them for the God of Capitalism', 'handle': '/mollycrabapple', 'is_retweet': True}\n"
     ]
    }
   ],
   "source": [
    "for tweet in twitter('https://twitter.com/spear_jacob',10):\n",
    "    print(tweet)"
   ]
  },
  {
   "cell_type": "code",
   "execution_count": 73,
   "metadata": {},
   "outputs": [
    {
     "data": {
      "text/plain": [
       "True"
      ]
     },
     "execution_count": 73,
     "metadata": {},
     "output_type": "execute_result"
    }
   ],
   "source": []
  },
  {
   "cell_type": "code",
   "execution_count": null,
   "metadata": {},
   "outputs": [],
   "source": []
  }
 ],
 "metadata": {
  "kernelspec": {
   "display_name": "Python 3",
   "language": "python",
   "name": "python3"
  },
  "language_info": {
   "codemirror_mode": {
    "name": "ipython",
    "version": 3
   },
   "file_extension": ".py",
   "mimetype": "text/x-python",
   "name": "python",
   "nbconvert_exporter": "python",
   "pygments_lexer": "ipython3",
   "version": "3.7.4"
  }
 },
 "nbformat": 4,
 "nbformat_minor": 2
}
